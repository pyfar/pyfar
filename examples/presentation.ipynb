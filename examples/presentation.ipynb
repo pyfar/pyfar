{
 "metadata": {
  "language_info": {
   "codemirror_mode": {
    "name": "ipython",
    "version": 3
   },
   "file_extension": ".py",
   "mimetype": "text/x-python",
   "name": "python",
   "nbconvert_exporter": "python",
   "pygments_lexer": "ipython3",
   "version": "3.8.5"
  },
  "orig_nbformat": 2,
  "kernelspec": {
   "name": "python3",
   "display_name": "Python 3",
   "language": "python"
  }
 },
 "nbformat": 4,
 "nbformat_minor": 2,
 "cells": [
  {
   "source": [
    "# **PYFAR: DSP COCKTAIL (Normalize & Average)**\n",
    "***\n",
    "\n",
    "### Lukas Hartmann, 415497\n",
    "\n",
    "#### Supervision: Fabian Brinkmann\n",
    "\n",
    "\"Despite its enormous relevance for todays cuisine, salt barely gets the attention and credit it deserves. This is also true for many of the small tools that are used in acoustic signal processing. The DSP cocktail will give these underdogs a voice and implement as many as possible of the following tools\""
   ],
   "cell_type": "markdown",
   "metadata": {}
  },
  {
   "cell_type": "code",
   "execution_count": 1,
   "metadata": {},
   "outputs": [],
   "source": [
    "# import packages\n",
    "import pyfar\n",
    "from pyfar import Signal\n",
    "import numpy as np                     "
   ]
  },
  {
   "source": [
    "## **Introduction**\n",
    "***\n",
    "\n",
    "<img src=\"diagram.png\" width=\"600px\" >"
   ],
   "cell_type": "markdown",
   "metadata": {}
  },
  {
   "source": [
    "## Function 1: Normalize\n",
    "***\n",
    "Normalize allows the user to normalize an input signal in the time or frequency domain. Normalization can be done in the `time`, `magnitude` or `log_magnitude` domain.\n",
    "\n",
    "Signals can then be normalilzed to either the `max`, `mean` or `rms` value.\n",
    "\n",
    "Multi-channel signals can be handled in a variety of ways:\n",
    "\n",
    "* `each` - norlmalizes each channel seperately\n",
    "* `max` - normalizes to the maximum across all channels\n",
    "* `min` - normalizes to the minimum across all channels\n",
    "* `mean` - normalizes to the average of `max`, `mean` or `rms` of all channels\n",
    "\n",
    "Each normalization can also be normalized to either to a further `value`:\n",
    "\n",
    "* `value` - can take the form of a scalar or an array\n",
    "\n",
    "When normalizing in the frequency domain a `freq_range` can be specified. \n",
    "\n",
    "Normalize returns the `normalized_signal` of the Signal class. One can also choose to `return_values`, the values of all channels before normalization. \n",
    "\n"
   ],
   "cell_type": "markdown",
   "metadata": {}
  },
  {
   "cell_type": "code",
   "execution_count": null,
   "metadata": {},
   "outputs": [],
   "source": [
    "def normalize(signal, normalize='time', normalize_to='max', channel_handling='max', value=None, freq_range=None, return_values=False):"
   ]
  },
  {
   "cell_type": "code",
   "execution_count": 2,
   "metadata": {},
   "outputs": [
    {
     "output_type": "execute_result",
     "data": {
      "text/plain": [
       "array([[0.25, 0.5 , 0.25],\n",
       "       [0.25, 1.  , 0.25]])"
      ]
     },
     "metadata": {},
     "execution_count": 2
    }
   ],
   "source": [
    "\n",
    "input_signal = Signal([[1, 2, 1], [1, 4, 1]], 44100)\n",
    "\n",
    "normalized_signal = pyfar.dsp.normalize(input_signal, normalize='time', normalize_to='max',                                                              channel_handling='max')\n",
    "\n",
    "normalized_signal.time"
   ]
  },
  {
   "source": [
    "## Function 2: Average\n",
    "***\n",
    "Average is used to average multi-channel signals in different ways. It may be useful to allign the data first. Averaging can be done in the `time`, `complex`, `magnitude`, `power` or `log_magnitude` domain.\n",
    "\n",
    "`phase_copy` specifies a channel from which to copy the phse. `None` ignores the phase.\n",
    "\n",
    "Channel weighting can also be specified using `weights`.\n",
    "\n"
   ],
   "cell_type": "markdown",
   "metadata": {}
  },
  {
   "cell_type": "code",
   "execution_count": null,
   "metadata": {},
   "outputs": [],
   "source": []
  },
  {
   "cell_type": "code",
   "execution_count": 3,
   "metadata": {},
   "outputs": [
    {
     "output_type": "execute_result",
     "data": {
      "text/plain": [
       "array([[1., 3., 1.]])"
      ]
     },
     "metadata": {},
     "execution_count": 3
    }
   ],
   "source": [
    "# Average signal in time domain\n",
    "\n",
    "input_signal = Signal([[1, 2, 1], [1, 4, 1]], 44100)\n",
    "\n",
    "averaged_signal = pyfar.dsp.average(input_signal, average_mode='time',weights=np.array([1,1]))\n",
    "\n",
    "averaged_signal.time"
   ]
  },
  {
   "source": [
    "## Testing\n",
    "***\n",
    "\n",
    "At the moment testing is done with simple test signals. Where all important pathways of the function are tested with known results in order to assert if pathways performing correctly."
   ],
   "cell_type": "markdown",
   "metadata": {}
  },
  {
   "cell_type": "code",
   "execution_count": null,
   "metadata": {},
   "outputs": [],
   "source": [
    "# Testing normalization\n",
    "\n",
    "def test_normalization_time_max_max_value():\n",
    "    \"\"\"Test the function along time, max, max & value path.\"\"\"\n",
    "    signal = Signal([[1, 2, 1], [1, 4, 1]], 44100)\n",
    "    truth = Signal([[0.25, 0.5, 0.25], [0.25, 1, 0.25]], 44100)\n",
    "    answer = dsp.normalize(signal, normalize='time', normalize_to='max',\n",
    "                           channel_handling='max')\n",
    "    assert answer == truth"
   ]
  },
  {
   "cell_type": "code",
   "execution_count": null,
   "metadata": {},
   "outputs": [],
   "source": [
    "# Testing averaging \n",
    "\n",
    "def test_average_time_phase():\n",
    "    \"\"\"Test the function in time domain and phase copy\"\"\"\n",
    "    signal = Signal([[1, 2+1j, 1], [1, 4, 1]], 44100, domain='time')\n",
    "    truth = Signal([[1, 3+1j, 1]], 44100, domain='time')\n",
    "    answer = dsp.average(signal, average_mode='time', phase_copy=(1,0))\n",
    "    assert answer == truth"
   ]
  },
  {
   "source": [
    "## Conclusion\n",
    "***\n",
    "\n",
    "* The functions perform the necessary general operations.\n",
    "* An extension of functionality especcialy of the phase handling in the averaging might be necessary.\n",
    "* Testing could be extended to check assumptions and assertions of both functions."
   ],
   "cell_type": "markdown",
   "metadata": {}
  },
  {
   "source": [
    "### References\n",
    "\n",
    "A. V. Oppenheim and R. W. Schafer, Discrete-time signal processing, Third edition. Upper Saddle et al.: Pearson, 2010"
   ],
   "cell_type": "markdown",
   "metadata": {}
  },
  {
   "source": [],
   "cell_type": "markdown",
   "metadata": {}
  }
 ]
}