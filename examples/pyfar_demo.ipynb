{
 "cells": [
  {
   "source": [
    "# Welcome\n",
    "\n",
    "The **Py**thon packages **f**or **A**coustics **R**esearch (pyfar) contain classes and function for the acquisition, inspection, and processing of audio signals. This is the pyfar demo notebook and a good place for getting started. In this notebook, you will see examples of the most important pyfar functionalty. \n",
    "\n",
    "**Note:** This is not a substitute for the pyfar documentaion at **insert_url**.\n",
    "\n",
    "## Contents\n",
    "\n",
    "[Signals](#signals)\n",
    "- [FFT normalization](#fft_normalization)\n",
    "- [Accessing Signal data](#accessing_signal_data)\n",
    "- [Iterating Signals](#accessing_signal_data)\n",
    "- [Signal meta data](#signal_meta_data)\n",
    "- [Arithmetic operations](#arithmetic_operations)\n",
    "- [Plotting](#plotting)\n",
    "    - [Line plots](#line_plots)\n",
    "    - [Plane plots](#plane_plots) TODO\n",
    "\n",
    "[Coordinates](#coordinates)\n",
    "- [Entering coordinate points](#coordinates_enter)\n",
    "- [Retrieving coordinate points](#coordinates_retrieve)\n",
    "- [Rotating coordinate points](#coordinates_rotate)\n",
    "\n",
    "[Orientations](#orientations)\n",
    "- [Entering orientations](#entering_orientations)\n",
    "- [Retrieving orientations](#retrieving_orientations)\n",
    "- [Rotating orientations](#rotating_orientations)\n",
    "\n",
    "[DSP](#dsp)\n",
    "- [Filtering](#filtering)\n",
    "\n",
    "[In'n'out](#in_and_out)\n",
    "- [Read and write workspace](#io_workspaces) TODO\n",
    "- [Read and write wav files](#io_wav_files)\n",
    "- [Read SOFA files](#io_sofa)\n",
    "\n",
    "\n",
    "Lets start with importing pyfar and numpy:"
   ],
   "cell_type": "markdown",
   "metadata": {}
  },
  {
   "source": [
    "# import packages\n",
    "import pyfar\n",
    "from pyfar import Signal                     # managing audio signals\n",
    "from pyfar.coordinates import Coordinates    # managing satial sampling points\n",
    "from pyfar.orientations import Orientations  # managing orientation vectors\n",
    "from pyfar.spatial import samplings          # creating predefined spatial sampling grids\n",
    "import pyfar.plot as plot                    # beatiful plots\n",
    "import pyfar.dsp.filter as filt              # most common filters in Acoustics\n",
    "import numpy as np                           # you gotta love numpy, but pandas are cuter"
   ],
   "cell_type": "code",
   "metadata": {},
   "execution_count": null,
   "outputs": []
  },
  {
   "source": [
    "# Signals<a class=\"anchor\" id=\"signals\"></a>\n",
    "\n",
    "Audio signals are the basis of pyfar. They are stored in objects of the `Signal` class along with information about the sampling rate, the domain (`time`, or `freq`), the FFT type and an optional comment. Lets go ahead and create a single channel signal:"
   ],
   "cell_type": "markdown",
   "metadata": {}
  },
  {
   "cell_type": "code",
   "execution_count": null,
   "metadata": {},
   "outputs": [],
   "source": [
    "# create a dirac signal with a sampling rate of 44.1 kHz\n",
    "fs = 44100\n",
    "x = np.zeros(44100)\n",
    "x[0] = 1\n",
    "x_energy = Signal(x, fs)\n",
    "\n",
    "# show information\n",
    "x_energy"
   ]
  },
  {
   "source": [
    "## FFT Normalization<a class=\"anchor\" id=\"fft_normalization\"></a>\n",
    "\n",
    "The spectral content of signals can be inspected in different ways, referred to as FFT normalizations. Pyfar knows the four normalizations `'amplitude'`, `'rms'`, `'power'`, and `'psd'` (cf. [Ahrens, et al. 2020](http://www.aes.org/e-lib/browse.cfm?elib=20838)). Two additional normalizations are available. `'unitary'` only applies the weighting for the single sided spectrum (Eq. 8 in Ahrens et al. 2020). `'none'` applies no normalization, which is usefull for signals with finite energy such as impulse responses. The default normalization is `'none'`. Let's create a signal with a different normalization"
   ],
   "cell_type": "markdown",
   "metadata": {}
  },
  {
   "cell_type": "code",
   "execution_count": null,
   "metadata": {},
   "outputs": [],
   "source": [
    "x = np.sin(2 * np.pi * 1000 * np.arange(441) / fs)\n",
    "x_power = Signal(x, fs, fft_norm='rms')"
   ]
  },
  {
   "source": [
    "The normalization can be changed. In this case the spectral data of the signal is converted internally using `pyfar.fft.normalization()`"
   ],
   "cell_type": "markdown",
   "metadata": {}
  },
  {
   "cell_type": "code",
   "execution_count": null,
   "metadata": {},
   "outputs": [],
   "source": [
    "x_power.fft_norm = 'amplitude'\n",
    "x_power.fft_norm"
   ]
  },
  {
   "source": [
    "## Accessing Signal data<a class=\"accessing_signal_data\" id=\"signals\"></a>\n",
    "\n",
    "You can access the data, i.e., the audio signal, inside a Signal object in the time and frequency domain by simply using"
   ],
   "cell_type": "markdown",
   "metadata": {}
  },
  {
   "cell_type": "code",
   "execution_count": null,
   "metadata": {},
   "outputs": [],
   "source": [
    "time_data = x_power.time\n",
    "freq_data = x_power.freq"
   ]
  },
  {
   "source": [
    "Two things are important here:\n",
    "\n",
    "1. `time_data` is mutable! That means `x.power.time` changes if you change `time_data`. If this is not what you want use `time_data = x_power.time.copy()` instead.\n",
    "\n",
    "2. The frequency data of signals depends on the Signal's `fft_norm`. Internally, the data are stored either in the `'time'` or `'freq'` domain. It is tranformed every time you access it without changing the internal state. In some cases it might be more efficient to store the data in a specif domain to avoid additional Fourier Transforms. Lets check out the current domain"
   ],
   "cell_type": "markdown",
   "metadata": {}
  },
  {
   "cell_type": "code",
   "execution_count": null,
   "metadata": {},
   "outputs": [],
   "source": [
    "x_power.domain"
   ]
  },
  {
   "source": [
    "and change it"
   ],
   "cell_type": "markdown",
   "metadata": {}
  },
  {
   "cell_type": "code",
   "execution_count": null,
   "metadata": {},
   "outputs": [],
   "source": [
    "x_power.domain = 'freq'\n",
    "x_power.domain"
   ]
  },
  {
   "source": [
    "`Signals` and some other pyfar objects support slicing. Let's illustrate that for a two channel signal"
   ],
   "cell_type": "markdown",
   "metadata": {}
  },
  {
   "cell_type": "code",
   "execution_count": null,
   "metadata": {},
   "outputs": [],
   "source": [
    "# generate two channel time data\n",
    "time = np.zeros((2, 4))\n",
    "time[0,0] = 1   # first sample of first channel\n",
    "time[1,0] = 2   # first sample of second channel\n",
    "\n",
    "x_two_channels = Signal(time, 44100)\n",
    "x_first_channel = x_two_channels[0]"
   ]
  },
  {
   "source": [
    "`x_first_channel` is a `Signal` object itself, which contains the first channel of `x_two_channels`:"
   ],
   "cell_type": "markdown",
   "metadata": {}
  },
  {
   "cell_type": "code",
   "execution_count": null,
   "metadata": {},
   "outputs": [],
   "source": [
    "x_first_channel.time"
   ]
  },
  {
   "source": [
    "A third option to access `Signals` is to copy it"
   ],
   "cell_type": "markdown",
   "metadata": {}
  },
  {
   "cell_type": "code",
   "execution_count": null,
   "metadata": {},
   "outputs": [],
   "source": [
    "x_copy = x_two_channels.copy()"
   ]
  },
  {
   "source": [
    "It is important to note that his return an independent copy of `x_two_channels`. Note that the operation `x_copy = x_two_channles` should be avoided. In this case changes to `x_copy` will also change `x_two_channels`. The `copy()` operation is available for all pyfar object."
   ],
   "cell_type": "markdown",
   "metadata": {}
  },
  {
   "source": [
    "## Iterating Signals<a class=\"signal_meta_data\" id=\"accessing_signal_data\"></a>\n",
    "\n",
    "It is the aim of pyfar that all operations work on N-dimensional `signals`. Nevertheless, you can also iterate `signals` if you need to apply operations depending on the channel. Lets look at a simple example"
   ],
   "cell_type": "markdown",
   "metadata": {}
  },
  {
   "cell_type": "code",
   "execution_count": null,
   "metadata": {},
   "outputs": [],
   "source": [
    "signal = Signal([[0, 0, 0], [1, 1, 1]], 44100)  # 2-channel signal\n",
    "\n",
    "# iterate the signal\n",
    "for n, channel in enumerate(signal):\n",
    "    print(f\"Channel: {n}, time data: {channel.time}\")\n",
    "    # do something channel dependent\n",
    "    channel.time = channel.time + n\n",
    "    # write changes to the signal\n",
    "    signal[n] = channel\n",
    "\n",
    "# q.e.d.\n",
    "print(f\"\\nNew signal time data:\\n{signal.time}\")"
   ]
  },
  {
   "source": [
    "`Signal` uses the standard `numpy` iterator which always iterates the first dimension. In case of a 2-D array as in the example above these are the channels."
   ],
   "cell_type": "markdown",
   "metadata": {}
  },
  {
   "source": [
    "## Signal meta data<a class=\"signal_meta_data\" id=\"signals\"></a>\n",
    "\n",
    "The `Signal` object also holds usefull metadata. The most important might be:\n",
    "\n",
    "- `Signal.n_samples`: The number of samples in each channel (`Signal.time.shape[-1]`)\n",
    "- `Signal.n_bins`: The number of frequencies in each channel (`Signal.time.shape[-1]`)\n",
    "- `Signal.times`: The sampling times of `Signal.time` in seconds\n",
    "- `Signal.freqs`: The frequencies of `Signal.freq` in Hz\n"
   ],
   "cell_type": "markdown",
   "metadata": {}
  },
  {
   "source": [
    "## Arithmetic operations<a class=\"arithmetic_operations\" id=\"signals\"></a>\n",
    "\n",
    "Arithmetic operations on audio signals are comman, `pyfar.signal` contains the functions `add`, `subtract`, `multiply`, `divide`, and `power` for this purpose. The operations can be performed in the time and frequency domain, and work on arbitrary numbers of Signals and array likes. Lets check out simple examples"
   ],
   "cell_type": "markdown",
   "metadata": {}
  },
  {
   "source": [
    "# add two signals energy signals\n",
    "x_sum = pyfar.signal.add((x_energy, x_energy), 'time')\n",
    "x_sum.time\n",
    "\n"
   ],
   "cell_type": "code",
   "metadata": {},
   "execution_count": null,
   "outputs": []
  },
  {
   "source": [
    "In this case, `x_sum` is also an energy Signal. However, if any power Signal is involved in an arithmetic operation, the result will be a power Signal. The FFT normalization of the result is always obtained from the first Signal in the input data. You can also apply arithmetic operatoins on a `Signal` and a vector. Under the hood, the operations use numpys powerfull [array broadcasting](https://numpy.org/doc/stable/user/basics.broadcasting.html?highlight=broadcast#module-numpy.doc.broadcasting). This means you can add scalars, vectors, and matrixes to a signal, if they broadcast together. Lets have a frequency domain examlpe for this"
   ],
   "cell_type": "markdown",
   "metadata": {}
  },
  {
   "cell_type": "code",
   "execution_count": null,
   "metadata": {},
   "outputs": [],
   "source": [
    "x_sum = pyfar.signal.add((x_energy, 1), 'freq')\n",
    "x_sum.time"
   ]
  },
  {
   "source": [
    "For convenience, the Python operators `+`, `-`, `*`, `/`, and `**` are overloaded with the **frequncy domain** arithmetic functions. Thus, the example above can also be shortened to"
   ],
   "cell_type": "markdown",
   "metadata": {}
  },
  {
   "cell_type": "code",
   "execution_count": null,
   "metadata": {},
   "outputs": [],
   "source": [
    "x_sum = x_energy + 1\n",
    "x_sum.time"
   ]
  },
  {
   "source": [
    "But keep in mind, that you have to use `pyfar.signal.add((...), 'time')` for time domain operations."
   ],
   "cell_type": "markdown",
   "metadata": {}
  },
  {
   "source": [
    "# Plotting<a class=\"anchor\" id=\"plotting\"></a>\n",
    "\n",
    "Inspecting acoustic signals is one of the most common tasks in our field, which can be done with `pyfar.plot`\n",
    "\n",
    "## Line Plots<a class=\"anchor\" id=\"line_plots\"></a>\n",
    "\n",
    "`pyfar.plot.line` can be used for simple plots of the time and spectral data. Lets check this out with one example"
   ],
   "cell_type": "markdown",
   "metadata": {}
  },
  {
   "cell_type": "code",
   "execution_count": null,
   "metadata": {},
   "outputs": [],
   "source": [
    "plot.line.freq(x_power)"
   ]
  },
  {
   "source": [
    "We set the FFT normalization to 'amplitude' before. The plot thus shows the Amplitude of our sine wave contained in `x_power`. We can also look at the RMS value"
   ],
   "cell_type": "markdown",
   "metadata": {}
  },
  {
   "cell_type": "code",
   "execution_count": null,
   "metadata": {},
   "outputs": [],
   "source": [
    "x_power.fft_norm = 'rms'\n",
    "plot.line.freq(x_power)"
   ]
  },
  {
   "source": [
    "It is worth noting that the 'time' representation of a `Signal` is not affected by the FFT normalization, i.e., the time domain amplitude remains 1. BTW Mr. fancy pants, we also have a build in dark theme"
   ],
   "cell_type": "markdown",
   "metadata": {}
  },
  {
   "cell_type": "code",
   "execution_count": null,
   "metadata": {},
   "outputs": [],
   "source": [
    "plot.line.time(x_power, style='dark')"
   ]
  },
  {
   "source": [
    "## Plane plots<a class=\"anchor\" id=\"plane_plots\"></a> [TODO]\n",
    "\n",
    "\n",
    "**808 - Found but not ready yet**\n"
   ],
   "cell_type": "markdown",
   "metadata": {}
  },
  {
   "source": [
    "# Coordinates<a class=\"anchor\" id=\"coordinates\"></a>\n",
    "\n",
    "The `Coordinates()` class is designed for storing, manipulating, and acessing coordinate points in a large variety of different coordinate conventions. Examples for data that can be stored are microphone positions of a spherical microphone array and loudspeaker positions of a sound field synthesis system. Lets create and empty `Coordinates` object and look at the implemented conventions first:"
   ],
   "cell_type": "markdown",
   "metadata": {}
  },
  {
   "cell_type": "code",
   "execution_count": null,
   "metadata": {},
   "outputs": [],
   "source": [
    "c = Coordinates()\n",
    "c.systems()"
   ]
  },
  {
   "source": [
    "## Entering coordinate points<a class=\"anchor\" id=\"coordinates_enter\"></a>\n",
    "\n",
    "Coordinate points can be entered manually or by using one of the available sampling schemes contained in `pyfar.spatial.samplings`. We will do the latter using an equal angle sampling and look at the information provided by the coordinates object:"
   ],
   "cell_type": "markdown",
   "metadata": {}
  },
  {
   "cell_type": "code",
   "execution_count": null,
   "metadata": {},
   "outputs": [],
   "source": [
    "c = samplings.sph_equal_angle((20, 10))\n",
    "# show general information\n",
    "print(c)\n",
    "# plot the sampling points\n",
    "c.show()"
   ]
  },
  {
   "source": [
    "Inside the `Coordinates` object, the points are stored in an N-dimensional array of size `[..., 3]` where the last dimension in this case holds the azimuth, colatitude, and radius. Information about coordinate array can be obtained by `c.cshape`, `c.csize`, and `c.cdim`. These properties are similar to numpy's `shape`, `size`, and `dim` but ignore the last dimension, which is always 3."
   ],
   "cell_type": "markdown",
   "metadata": {}
  },
  {
   "source": [
    "## Retrieving coordinate points<a class=\"anchor\" id=\"coordinates_retrieve\"></a>\n",
    "\n",
    "There are different ways to retrieve points from a `Coordinates` object. All points can be obtained in cartesian, spherical, and cylindrical coordinates using the getter functions `c.get_cart()`, `c.get_sph()` and `c.get_cyl()`, e.g.:"
   ],
   "cell_type": "markdown",
   "metadata": {}
  },
  {
   "cell_type": "code",
   "execution_count": null,
   "metadata": {},
   "outputs": [],
   "source": [
    "cartesian_coordinates = c.get_cart()"
   ]
  },
  {
   "source": [
    "Different methods are available for obtaining a specific subset of coordinates. For example the nearest point(s) can be obtained by"
   ],
   "cell_type": "markdown",
   "metadata": {}
  },
  {
   "cell_type": "code",
   "execution_count": null,
   "metadata": {},
   "outputs": [],
   "source": [
    "c_out = c.get_nearest_k(\n",
    "    270, 90, 1, k=1, domain='sph', convention='top_colat', unit='deg', show=True)"
   ]
  },
  {
   "source": [
    "To obtain all points within a specified eucledian distance or arc distance, you can use `c.get_nearest_cart()` and `c.get_nearest_sph()`. To obtain more complicated subsets of any coordinate, e.g., the horizontal plane with `colatitude=90` degree, you can use slicing"
   ],
   "cell_type": "markdown",
   "metadata": {}
  },
  {
   "cell_type": "code",
   "execution_count": null,
   "metadata": {},
   "outputs": [],
   "source": [
    "mask_hor = c.get_slice('colatitude', 'deg', 90, show=True)"
   ]
  },
  {
   "source": [
    "## Rotating coordinates<a class=\"anchor\" id=\"coordinates_rotate\"></a>\n",
    "\n",
    "You can apply rotations using quaternions, rotation vectors/matrixes and euler angles with  `c.rotate()`, which is a wrapper for `scipy.spatial.transform.Rotation`. For example rotating around the y-axis by 45 degrees can be done with"
   ],
   "cell_type": "markdown",
   "metadata": {}
  },
  {
   "cell_type": "code",
   "execution_count": null,
   "metadata": {},
   "outputs": [],
   "source": [
    "c.rotate('y', 45)\n",
    "c.show()"
   ]
  },
  {
   "source": [
    "Note that this changes the points inside the `Coordinates` object, which means that you have to be carefull not to apply the rotation multiple times, i.e., when evaluationg cells during debugging."
   ],
   "cell_type": "markdown",
   "metadata": {}
  },
  {
   "source": [
    "# Orientations<a class=\"anchor\" id=\"orientations\"></a>\n",
    "\n",
    "The `Orientations()` class is designed storing, manipulating, and accessing orientation vectors. Examples for this are the orientations of directional loudspeakers when measuring room impulse responses or the head orientation belonging to binaural impulse responses. It is good to know that `Orientations` is inherited from `scipy.spatial.transform.Rotation` and that all methods of this class can also be used with `Orientations`.\n",
    "\n",
    "## Entering orientations<a class=\"anchor\" id=\"entering_orientations\"></a>\n",
    "\n",
    "Lets go ahead and create an object and show the result"
   ],
   "cell_type": "markdown",
   "metadata": {}
  },
  {
   "cell_type": "code",
   "execution_count": null,
   "metadata": {},
   "outputs": [],
   "source": [
    "views = [[0,  1, 0],\n",
    "         [1,  0, 0],\n",
    "         [0, -1, 0]]\n",
    "up = [0, 0, 1]\n",
    "orientations = Orientations.from_view_up(views, up)\n",
    "orientations.show(show_rights=False)\n"
   ]
  },
  {
   "source": [
    "It is also possible to enter `Orientations` from `Coordinates` object or mixtures of `Coordinates` objects and array likes. This is equivalent to the example above"
   ],
   "cell_type": "markdown",
   "metadata": {}
  },
  {
   "cell_type": "code",
   "execution_count": null,
   "metadata": {},
   "outputs": [],
   "source": [
    "views_c = Coordinates([90, 0, 270], 0, 1,\n",
    "                      domain='sph', convention='top_elev', unit='deg')\n",
    "\n",
    "orientations = Orientations.from_view_up(views_c, up)"
   ]
  },
  {
   "source": [
    "## Retrieving orientations<a class=\"anchor\" id=\"retrieving_orientations\"></a>\n",
    "\n",
    "Orientaions can be retrieved as view, up, and right-vectors and in any format supported by `scipy.spatial.transform.Rotation`. They can also easily converted into any coordinate convention supported by pyfar by putting them into a `Coordinates` object. Lets only check out one way for now "
   ],
   "cell_type": "markdown",
   "metadata": {}
  },
  {
   "cell_type": "code",
   "execution_count": null,
   "metadata": {},
   "outputs": [],
   "source": [
    "views, ups, right, = orientations.as_view_up_right()"
   ]
  },
  {
   "source": [
    "In this case the output is identical to the input. This would not be the case if for exaple using `view = [2, 0, 0]` in which case the output would be the unit vector `[1, 0, 0]`."
   ],
   "cell_type": "markdown",
   "metadata": {}
  },
  {
   "source": [
    "## Rotating orientations<a class=\"anchor\" id=\"rotating_orientations\"></a>\n",
    "\n",
    "Rotations can be done using the methods inherited from `scipy.spatial.transform.Rotation`. You can for example rotate around the y-axis this way"
   ],
   "cell_type": "markdown",
   "metadata": {}
  },
  {
   "source": [
    "rotation = Orientations.from_euler('y', 30, degrees=True)\n",
    "orientations_rot = orientations * rotation\n",
    "orientations_rot.show(show_rights=False)"
   ],
   "cell_type": "code",
   "metadata": {},
   "execution_count": null,
   "outputs": []
  },
  {
   "source": [
    "# DSP<a class=\"in_and_out\" id=\"dsp\"></a>\n",
    "\n",
    "`pyfar.dsp` offers lots of usefull functions to manipulate the data inside `Signal` objects. Lets take a tour\n",
    "\n",
    "## Filtering<a class=\"in_and_out\" id=\"filtering\"></a>\n",
    "\n",
    "`pyfar.dsp.filter` contains wrappers for the most common filters of `scipy.signal`\n",
    "- Butterworth,\n",
    "- Chebychev type I and II,\n",
    "- Elliptic (Cauer), and\n",
    "- Bessel/Thomson\n",
    "\n",
    "and other usefull filter functions\n",
    "- Linkwitz-Riley Crossover networks\n",
    "- Fractional octave filters [TODO]\n",
    "- Auditory filters [TODO]\n",
    "- Parametric equalizers\n",
    "- Shelve filters\n",
    "- Constant slope filters [TODO]\n",
    "\n",
    "They can all be assessed in a similar manner, like this one\n"
   ],
   "cell_type": "markdown",
   "metadata": {}
  },
  {
   "cell_type": "code",
   "execution_count": null,
   "metadata": {},
   "outputs": [],
   "source": [
    "x_filter = filt.peq(x_energy, center_frequency=1e3, gain=10, quality=2)\n",
    "plot.line.freq(x_filter)"
   ]
  },
  {
   "source": [
    "# In'n'out<a class=\"in_and_out\" id=\"signals\"></a>\n",
    "\n",
    "Now that you know what pyfar is about, let's see how you can save your work and read comman data types.\n",
    "\n",
    "## Read and write workspace<a class=\"in_and_out\" id=\"#io_workspaces\"></a> [ToDo]\n",
    "\n",
    "**808 - Found but not ready yet**\n",
    "\n",
    "## Read and write wav-files<a class=\"in_and_out\" id=\"wav_files\"></a>\n",
    "\n",
    "Wav-files are commonly used in the audio community to store and exchange data. You can read them with\n",
    "\n",
    "`signal = pyfar.io.read_wav(filename)`\n",
    "\n",
    "and write them with\n",
    "\n",
    "`pyfar.io.write_wav(signal, filename, overwrite=True)`.\n",
    "\n",
    "You can write any `signal` to a wav-file also if they have values > 1. Multidimensional `signals` will be reshaped to 2D arrays before writing.\n",
    "\n",
    "## Read SOFA files<a class=\"in_and_out\" id=\"#io_sofa\"></a>\n",
    "\n",
    "[SOFA files](https://www.sofaconventions.org) can be used to store spatially distributet acoustical data sets. Examples for this are room acoustic measurements at different positions in a room or a set of head-related transfer functions for different source postitions. SOFA files can quickly be read by\n",
    "\n",
    "`signal, source, receiver =  pfar.io.read_sofa(filename)`\n",
    "\n",
    "which returns the audio data as a `Signal` and the source and receiver coordinates as a `Coordinates` object.\n",
    "\n",
    "`read_sofa` is a wrapper for `python_sofa`, which can be used to write SOFA files or access more meta data contained in SOFA files."
   ],
   "cell_type": "markdown",
   "metadata": {}
  }
 ],
 "metadata": {
  "kernelspec": {
   "name": "python3",
   "display_name": "Python 3.8.5 64-bit ('pyfar': conda)",
   "metadata": {
    "interpreter": {
     "hash": "57f0799e2a31a907aca09166e6e09b9ec60d5baa94b5306e837fa1cdfdf63edc"
    }
   }
  },
  "language_info": {
   "codemirror_mode": {
    "name": "ipython",
    "version": 3
   },
   "file_extension": ".py",
   "mimetype": "text/x-python",
   "name": "python",
   "nbconvert_exporter": "python",
   "pygments_lexer": "ipython3",
   "version": "3.8.5-final"
  }
 },
 "nbformat": 4,
 "nbformat_minor": 4
}